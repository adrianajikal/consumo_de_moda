{
 "cells": [
  {
   "cell_type": "markdown",
   "id": "4d9b570f",
   "metadata": {},
   "source": [
    "<img width=\"100%\" src ='https://images.unsplash.com/photo-1445205170230-053b83016050?w=500&auto=format&fit=crop&q=60&ixlib=rb-4.0.3&ixid=M3wxMjA3fDB8MHxzZWFyY2h8MzIzfHxmYXNoaW9uJTIwY29uc3VtJTIwd2lkZXxlbnwwfDB8MHx8fDI%3D'>\n",
    "\n",
    "---\n",
    "\n",
    "<h1 style=\"color:Purple;\">Projeto Final: Desigualdade no Consumo de Moda no Brasil</h1>\n",
    "\n",
    "<h2 style=\"color:Teal;\">Sobre o Projeto</h2>\n",
    "\n",
    "Escolhi desenvolver este projeto com foco no setor de moda por já atuar profissionalmente nessa área e vivenciar de perto as transformações no comportamento do consumidor, os desafios de acessibilidade e as tendências de consumo consciente. O objetivo foi unir minha experiência prática com os conhecimentos adquiridos ao longo do curso, utilizando ciência de dados para gerar insights relevantes e aplicáveis ao setor.\n",
    "\n",
    "A base de dados utilizada foi inspirada na **Pesquisa de Orçamentos Familiares (POF) 2017-2018**, realizada pelo **IBGE**, que é a **mais recente disponível** com informações detalhadas sobre o consumo das famílias brasileiras, incluindo gastos com vestuário. Apesar de não refletir o cenário pós-pandemia, a POF continua sendo uma importante fonte de dados para analisar padrões estruturais de consumo no Brasil, e por isso foi utilizada como referência neste trabalho.\n",
    "\n",
    "Este projeto busca, portanto, explorar **como o consumo de moda varia entre diferentes faixas de renda, regiões, idades e gêneros**, e o que isso revela sobre a **desigualdade no acesso à moda** no país.\n",
    "\n",
    "<h2 style=\"color:Teal;\">Problema</h2>\n",
    "Como o consumo de vestuário varia entre faixas de renda, regiões, gênero e idade no Brasil?\n",
    "\n",
    "<h2 style=\"color:Teal;\">Objetivo</h2>\n",
    "Analisar padrões de gasto com vestuário no Brasil usando dados simulados com base na POF.\n",
    "\n",
    "<h2 style=\"color:Gray;\">Metodologia (CRISP-DM)</h2>\n",
    "- Entendimento do problema\n",
    "- Coleta e preparação dos dados (simulados)\n",
    "- Análise exploratória\n",
    "- Modelagem (Clusterização e Regressão Linear)\n",
    "- Avaliação dos modelos\n",
    "- Comunicação dos resultados"
   ]
  },
  {
   "cell_type": "code",
   "execution_count": 2,
   "id": "e08de956",
   "metadata": {},
   "outputs": [
    {
     "data": {
      "text/html": [
       "<div>\n",
       "<style scoped>\n",
       "    .dataframe tbody tr th:only-of-type {\n",
       "        vertical-align: middle;\n",
       "    }\n",
       "\n",
       "    .dataframe tbody tr th {\n",
       "        vertical-align: top;\n",
       "    }\n",
       "\n",
       "    .dataframe thead th {\n",
       "        text-align: right;\n",
       "    }\n",
       "</style>\n",
       "<table border=\"1\" class=\"dataframe\">\n",
       "  <thead>\n",
       "    <tr style=\"text-align: right;\">\n",
       "      <th></th>\n",
       "      <th>Região</th>\n",
       "      <th>Gênero</th>\n",
       "      <th>Faixa de Renda</th>\n",
       "      <th>Faixa Etária</th>\n",
       "      <th>Gasto Mensal com Vestuário (R$)</th>\n",
       "    </tr>\n",
       "  </thead>\n",
       "  <tbody>\n",
       "    <tr>\n",
       "      <th>0</th>\n",
       "      <td>Sudeste</td>\n",
       "      <td>Masculino</td>\n",
       "      <td>1 a 2 SM</td>\n",
       "      <td>Até 17 anos</td>\n",
       "      <td>102.45</td>\n",
       "    </tr>\n",
       "    <tr>\n",
       "      <th>1</th>\n",
       "      <td>Sul</td>\n",
       "      <td>Masculino</td>\n",
       "      <td>1 a 2 SM</td>\n",
       "      <td>30 a 44 anos</td>\n",
       "      <td>139.47</td>\n",
       "    </tr>\n",
       "    <tr>\n",
       "      <th>2</th>\n",
       "      <td>Centro-Oeste</td>\n",
       "      <td>Masculino</td>\n",
       "      <td>1 a 2 SM</td>\n",
       "      <td>60 anos ou mais</td>\n",
       "      <td>92.42</td>\n",
       "    </tr>\n",
       "    <tr>\n",
       "      <th>3</th>\n",
       "      <td>Sul</td>\n",
       "      <td>Feminino</td>\n",
       "      <td>1 a 2 SM</td>\n",
       "      <td>45 a 59 anos</td>\n",
       "      <td>78.81</td>\n",
       "    </tr>\n",
       "    <tr>\n",
       "      <th>4</th>\n",
       "      <td>Sul</td>\n",
       "      <td>Feminino</td>\n",
       "      <td>5 a 10 SM</td>\n",
       "      <td>Até 17 anos</td>\n",
       "      <td>253.63</td>\n",
       "    </tr>\n",
       "  </tbody>\n",
       "</table>\n",
       "</div>"
      ],
      "text/plain": [
       "         Região     Gênero Faixa de Renda     Faixa Etária  \\\n",
       "0       Sudeste  Masculino       1 a 2 SM      Até 17 anos   \n",
       "1           Sul  Masculino       1 a 2 SM     30 a 44 anos   \n",
       "2  Centro-Oeste  Masculino       1 a 2 SM  60 anos ou mais   \n",
       "3           Sul   Feminino       1 a 2 SM     45 a 59 anos   \n",
       "4           Sul   Feminino      5 a 10 SM      Até 17 anos   \n",
       "\n",
       "   Gasto Mensal com Vestuário (R$)  \n",
       "0                           102.45  \n",
       "1                           139.47  \n",
       "2                            92.42  \n",
       "3                            78.81  \n",
       "4                           253.63  "
      ]
     },
     "execution_count": 2,
     "metadata": {},
     "output_type": "execute_result"
    }
   ],
   "source": [
    "import pandas as pd\n",
    "import seaborn as sns\n",
    "import matplotlib.pyplot as plt\n",
    "import plotly.express as px\n",
    "\n",
    "from sklearn.preprocessing import LabelEncoder, StandardScaler\n",
    "from scipy.cluster.hierarchy import linkage, dendrogram, fcluster\n",
    "\n",
    "from sklearn.linear_model import LinearRegression\n",
    "from sklearn.model_selection import train_test_split\n",
    "from sklearn.metrics import mean_squared_error, r2_score\n",
    "\n",
    "import warnings\n",
    "warnings.filterwarnings(\"ignore\", category=UserWarning)\n",
    "warnings.filterwarnings(\"ignore\", category=FutureWarning)\n",
    "\n",
    "# Carregando os dados\n",
    "df = pd.read_csv('base_consumo_moda.csv')\n",
    "df.head()"
   ]
  },
  {
   "cell_type": "markdown",
   "id": "96357c4e",
   "metadata": {},
   "source": [
    "## Limpeza e Proteção de Dados\n",
    "- Verificamos valores nulos e dados duplicados\n",
    "- Os dados são anônimos e simulados, não contêm informações sensíveis"
   ]
  },
  {
   "cell_type": "code",
   "execution_count": 4,
   "id": "f86fe452",
   "metadata": {},
   "outputs": [
    {
     "data": {
      "text/plain": [
       "(Região                             0\n",
       " Gênero                             0\n",
       " Faixa de Renda                     0\n",
       " Faixa Etária                       0\n",
       " Gasto Mensal com Vestuário (R$)    0\n",
       " dtype: int64,\n",
       " 1)"
      ]
     },
     "execution_count": 4,
     "metadata": {},
     "output_type": "execute_result"
    }
   ],
   "source": [
    "df.isnull().sum(), df.duplicated().sum()"
   ]
  },
  {
   "cell_type": "markdown",
   "id": "0d83f406",
   "metadata": {},
   "source": [
    "## Análise Exploratória de Dados"
   ]
  },
  {
   "cell_type": "code",
   "execution_count": 6,
   "id": "6889e53f",
   "metadata": {},
   "outputs": [
    {
     "data": {
      "image/png": "[encoded data removed]",
      "text/plain": [
       "<Figure size 640x480 with 1 Axes>"
      ]
     },
     "metadata": {},
     "output_type": "display_data"
    }
   ],
   "source": [
    "warnings.filterwarnings(\"ignore\", message=\"tzname SM identified but not understood\")\n",
    "\n",
    "sns.barplot(data=df, x='Faixa de Renda', y='Gasto Mensal com Vestuário (R$)', errorbar=None, palette='Blues_d', legend=False)\n",
    "\n",
    "plt.title('Gasto Médio por Faixa de Renda')\n",
    "plt.xticks(rotation=30)\n",
    "plt.tight_layout()\n",
    "plt.show()"
   ]
  },
  {
   "cell_type": "markdown",
   "id": "4656fe60",
   "metadata": {},
   "source": [
    "## Clusterização Hierárquica"
   ]
  },
  {
   "cell_type": "code",
   "execution_count": 8,
   "id": "42305f33",
   "metadata": {},
   "outputs": [
    {
     "data": {
      "image/png": "[encoded data removed]",
      "text/plain": [
       "<Figure size 640x480 with 1 Axes>"
      ]
     },
     "metadata": {},
     "output_type": "display_data"
    },
    {
     "data": {
      "text/html": [
       "<div>\n",
       "<style scoped>\n",
       "    .dataframe tbody tr th:only-of-type {\n",
       "        vertical-align: middle;\n",
       "    }\n",
       "\n",
       "    .dataframe tbody tr th {\n",
       "        vertical-align: top;\n",
       "    }\n",
       "\n",
       "    .dataframe thead th {\n",
       "        text-align: right;\n",
       "    }\n",
       "</style>\n",
       "<table border=\"1\" class=\"dataframe\">\n",
       "  <thead>\n",
       "    <tr style=\"text-align: right;\">\n",
       "      <th></th>\n",
       "      <th>Gasto Mensal com Vestuário (R$)</th>\n",
       "    </tr>\n",
       "    <tr>\n",
       "      <th>Cluster</th>\n",
       "      <th></th>\n",
       "    </tr>\n",
       "  </thead>\n",
       "  <tbody>\n",
       "    <tr>\n",
       "      <th>1</th>\n",
       "      <td>321.65</td>\n",
       "    </tr>\n",
       "    <tr>\n",
       "      <th>2</th>\n",
       "      <td>47.83</td>\n",
       "    </tr>\n",
       "    <tr>\n",
       "      <th>3</th>\n",
       "      <td>170.98</td>\n",
       "    </tr>\n",
       "    <tr>\n",
       "      <th>4</th>\n",
       "      <td>146.04</td>\n",
       "    </tr>\n",
       "  </tbody>\n",
       "</table>\n",
       "</div>"
      ],
      "text/plain": [
       "         Gasto Mensal com Vestuário (R$)\n",
       "Cluster                                 \n",
       "1                                 321.65\n",
       "2                                  47.83\n",
       "3                                 170.98\n",
       "4                                 146.04"
      ]
     },
     "execution_count": 8,
     "metadata": {},
     "output_type": "execute_result"
    }
   ],
   "source": [
    "df_cluster = df.copy()\n",
    "df_cluster['Renda_Num'] = LabelEncoder().fit_transform(df_cluster['Faixa de Renda'])\n",
    "df_cluster['Idade_Num'] = LabelEncoder().fit_transform(df_cluster['Faixa Etária'])\n",
    "X = df_cluster[['Gasto Mensal com Vestuário (R$)', 'Renda_Num', 'Idade_Num']]\n",
    "X_scaled = StandardScaler().fit_transform(X)\n",
    "Z = linkage(X_scaled, method='ward')\n",
    "dendrogram(Z, truncate_mode='lastp', p=5)\n",
    "plt.title('Dendrograma - Clusterização de Consumidores')\n",
    "plt.show()\n",
    "df_cluster['Cluster'] = fcluster(Z, t=4, criterion='maxclust')\n",
    "df_cluster.groupby('Cluster')[['Gasto Mensal com Vestuário (R$)']].mean().round(2)"
   ]
  },
  {
   "cell_type": "markdown",
   "id": "a6f9c4ea",
   "metadata": {},
   "source": [
    "## Regressão Linear - Prevendo Gasto com Vestuário"
   ]
  },
  {
   "cell_type": "code",
   "execution_count": 10,
   "id": "b5b40871",
   "metadata": {},
   "outputs": [
    {
     "name": "stdout",
     "output_type": "stream",
     "text": [
      "MSE: 326.70\n",
      "R²: 0.96\n"
     ]
    }
   ],
   "source": [
    "df_reg = pd.get_dummies(df, columns=['Região', 'Gênero', 'Faixa de Renda', 'Faixa Etária'], drop_first=True)\n",
    "X = df_reg.drop(columns=['Gasto Mensal com Vestuário (R$)'])\n",
    "y = df_reg['Gasto Mensal com Vestuário (R$)']\n",
    "X_train, X_test, y_train, y_test = train_test_split(X, y, test_size=0.2, random_state=42)\n",
    "modelo = LinearRegression()\n",
    "modelo.fit(X_train, y_train)\n",
    "y_pred = modelo.predict(X_test)\n",
    "mse = mean_squared_error(y_test, y_pred)\n",
    "r2 = r2_score(y_test, y_pred)\n",
    "print(f\"MSE: {mse:.2f}\")\n",
    "print(f\"R²: {r2:.2f}\")"
   ]
  },
  {
   "cell_type": "markdown",
   "id": "10f02d58",
   "metadata": {},
   "source": [
    "## Conclusão\n",
    "- O projeto evidenciou desigualdade no consumo de moda no Brasil.\n",
    "- A renda foi o principal fator determinante no gasto com vestuário.\n",
    "- A clusterização mostrou perfis distintos de consumidores.\n",
    "- A regressão linear apresentou R² de 0.96, indicando ótimo poder preditivo.\n",
    "- Essa análise pode apoiar marcas, brechós e políticas públicas voltadas à moda acessível e sustentável."
   ]
  }
 ],
 "metadata": {
  "kernelspec": {
   "display_name": "Python (PyCaret)",
   "language": "python",
   "name": "venv_pycaret"
  },
  "language_info": {
   "codemirror_mode": {
    "name": "ipython",
    "version": 3
   },
   "file_extension": ".py",
   "mimetype": "text/x-python",
   "name": "python",
   "nbconvert_exporter": "python",
   "pygments_lexer": "ipython3",
   "version": "3.10.9"
  }
 },
 "nbformat": 4,
 "nbformat_minor": 5
}
